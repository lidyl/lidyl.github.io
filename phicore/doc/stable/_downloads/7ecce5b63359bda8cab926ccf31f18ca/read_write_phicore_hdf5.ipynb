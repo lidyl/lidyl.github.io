{
  "cells": [
    {
      "cell_type": "code",
      "execution_count": null,
      "metadata": {
        "collapsed": false
      },
      "outputs": [],
      "source": [
        "%matplotlib inline"
      ]
    },
    {
      "cell_type": "markdown",
      "metadata": {},
      "source": [
        "\nCreating and reading phicore HDF5 files\n=======================================\n\nIn thus example we will create a sample phicore HDF5 files then read\nit back as ``xarray.DataArray``\n\n"
      ]
    },
    {
      "cell_type": "code",
      "execution_count": null,
      "metadata": {
        "collapsed": false
      },
      "outputs": [],
      "source": [
        "import numpy as np\nimport xarray as xr\n\nfrom phicore.io import PhiDataFile\n\n\nrng = np.random.RandomState(42)\n\nNx, Ny, Nw = 5, 5, 3\n\nX = xr.DataArray(rng.rand(Nx, Ny, Nw),\n                 dims=['x', 'y', 'w'],\n                 coords={'x': np.arange(Nx), 'y': np.arange(Ny),\n                         'w': np.linspace(2.3, 2.5, Nw)},\n                 attrs={'scale_units': {'x': 'px', 'y': 'px', 'w': 'PHz.rad'}},\n                 name='X')"
      ]
    },
    {
      "cell_type": "markdown",
      "metadata": {},
      "source": [
        "The ``xarray.DataArray`` that we will use as an example, is as follows,\n\n"
      ]
    },
    {
      "cell_type": "code",
      "execution_count": null,
      "metadata": {
        "collapsed": false
      },
      "outputs": [],
      "source": [
        "print(X)\n\n\nfh = PhiDataFile('test_file.h5', 'w', force=True)\nfh.write_xarray(X)"
      ]
    },
    {
      "cell_type": "markdown",
      "metadata": {},
      "source": [
        "Now we will load this data back,\n\n"
      ]
    },
    {
      "cell_type": "code",
      "execution_count": null,
      "metadata": {
        "collapsed": false
      },
      "outputs": [],
      "source": [
        "fh = PhiDataFile('test_file.h5', 'r')\n\n\nX_out = fh.read_xarray('/data/X')\n\nprint(X)"
      ]
    }
  ],
  "metadata": {
    "kernelspec": {
      "display_name": "Python 3",
      "language": "python",
      "name": "python3"
    },
    "language_info": {
      "codemirror_mode": {
        "name": "ipython",
        "version": 3
      },
      "file_extension": ".py",
      "mimetype": "text/x-python",
      "name": "python",
      "nbconvert_exporter": "python",
      "pygments_lexer": "ipython3",
      "version": "3.6.8"
    }
  },
  "nbformat": 4,
  "nbformat_minor": 0
}